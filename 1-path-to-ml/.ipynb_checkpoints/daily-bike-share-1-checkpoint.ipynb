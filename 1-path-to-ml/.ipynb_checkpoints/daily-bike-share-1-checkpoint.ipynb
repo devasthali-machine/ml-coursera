{
 "cells": [
  {
   "cell_type": "code",
   "execution_count": null,
   "id": "bd599d4a",
   "metadata": {},
   "outputs": [],
   "source": [
    "#Replace with your endpoint\n",
    "endpoint = 'http://572e15eb-df29-4f21-805d-7ab38d2d9e0f.eastus2.azurecontainer.io/score' \n",
    "#Replace with your key \n",
    "key = 'YOUR_KEY'\n",
    "\n",
    "import json \n",
    "import requests \n",
    "\n",
    "## \n",
    "## An array of features based on five-day weather forecast \n",
    "## \n",
    "\n",
    "x_feature_data = [\n",
    "    [1,1,2022,1,0,6,0,2,0.344167,0.363625,0.805833,0.160446], \n",
    "\n",
    "    [2,1,2022,1,0,0,0,2,0.363478,0.353739,0.696087,0.248539], \n",
    "\n",
    "    [3,1,2022,1,0,1,1,1,0.196364,0.189405,0.437273,0.248309], \n",
    "\n",
    "    [4,1,2022,1,0,2,1,1,0.2,0.212122,0.590435,0.160296], \n",
    "\n",
    "    [5,1,2022,1,0,3,1,1,0.226957,0.22927,0.436957,0.1869]] \n",
    "\n",
    " \n",
    "\n",
    "#Convert the array to JSON format \n",
    "\n",
    "input_json = json.dumps({\"data\": x_feature_data}) \n",
    " \n",
    "\n",
    "#Set the content type and authentication for the request \n",
    "\n",
    "headers = {\"Content-Type\":\"application/json\", \n",
    "        \"Authorization\":\"Bearer \" + key} \n",
    "\n",
    "\n",
    "#Send the request \n",
    "response = requests.post(endpoint, input_json, headers=headers) \n",
    "\n",
    "#If we got a valid response, display the predictions \n",
    "\n",
    "if response.status_code == 200: \n",
    "    y_prediction = json.loads(response.json()) \n",
    "    print(\"Predictions:\") \n",
    "\n",
    "    for i in range(len(x_feature_data)): \n",
    "        print (\" Day: {}. Predicted rentals: {}\".format(i+1, max(0, round(y_prediction[\"result\"][i])))) \n",
    "\n",
    "else: \n",
    "    print(response)"
   ]
  }
 ],
 "metadata": {
  "kernelspec": {
   "display_name": "Python 3",
   "language": "python",
   "name": "python3"
  },
  "language_info": {
   "codemirror_mode": {
    "name": "ipython",
    "version": 3
   },
   "file_extension": ".py",
   "mimetype": "text/x-python",
   "name": "python",
   "nbconvert_exporter": "python",
   "pygments_lexer": "ipython3",
   "version": "3.9.5"
  }
 },
 "nbformat": 4,
 "nbformat_minor": 5
}
